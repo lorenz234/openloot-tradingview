{
 "cells": [
  {
   "cell_type": "code",
   "execution_count": 2,
   "metadata": {},
   "outputs": [],
   "source": [
    "import pandas as pd\n",
    "\n",
    "df = pd.read_csv('BT0_Armory_Transcendent.csv')"
   ]
  },
  {
   "cell_type": "code",
   "execution_count": 3,
   "metadata": {},
   "outputs": [
    {
     "name": "stderr",
     "output_type": "stream",
     "text": [
      "/var/folders/cb/lqbl5ztx6fsbpghrl6r70d5m0000gn/T/ipykernel_76680/2164083020.py:3: SettingWithCopyWarning: \n",
      "A value is trying to be set on a copy of a slice from a DataFrame.\n",
      "Try using .loc[row_indexer,col_indexer] = value instead\n",
      "\n",
      "See the caveats in the documentation: https://pandas.pydata.org/pandas-docs/stable/user_guide/indexing.html#returning-a-view-versus-a-copy\n",
      "  df_sales['date'] = pd.to_datetime(df_sales['date'])\n"
     ]
    }
   ],
   "source": [
    "def get_candles_day(df):\n",
    "    df_sales = df[df['eventName'] == 'sale']\n",
    "    df_sales['date'] = pd.to_datetime(df_sales['date'])\n",
    "    df_candles = df_sales.groupby(pd.Grouper(key='date', freq='D')).agg({'price': ['first', 'last', 'min', 'max', 'sum']})\n",
    "    df_candles.columns = ['Open', 'Close', 'Low', 'High', 'Volume']\n",
    "    return df_candles\n",
    "\n",
    "df_candles = get_candles_day(df)\n"
   ]
  },
  {
   "cell_type": "code",
   "execution_count": 4,
   "metadata": {},
   "outputs": [
    {
     "name": "stdout",
     "output_type": "stream",
     "text": [
      "                           volumne  burn_count  sale_count  supply  \\\n",
      "BT0_Time_Warden_Exotic    68129.00           0          13      52   \n",
      "BT0_Armory_Transcendent   29843.99           0           9      37   \n",
      "BT0_MysteryBox_Exclusive  25379.71        1557        1003    1784   \n",
      "\n",
      "                          max_supply  circ_supply  \n",
      "BT0_Time_Warden_Exotic           500           52  \n",
      "BT0_Armory_Transcendent          450           37  \n",
      "BT0_MysteryBox_Exclusive        2000          227  \n"
     ]
    }
   ],
   "source": [
    "csv_files = ['BT0_Time_Warden_Exotic.csv',\n",
    "            'BT0_Armory_Transcendent.csv',\n",
    "            'BT0_MysteryBox_Exclusive.csv']\n",
    "\n",
    "box_dict = {}\n",
    "\n",
    "for csv_file in csv_files:\n",
    "    df = pd.read_csv(csv_file)\n",
    "    box_dict[csv_file[:-4]] = {'volumne': df['price'].sum(), \n",
    "                          'burn_count': len(df[df['eventName'] == 'burn']),\n",
    "                          'sale_count': len(df[df['eventName'] == 'sale']),\n",
    "                          'supply': len(df['issuedId'].unique())\n",
    "                          }\n",
    "\n",
    "box_dict['BT0_Time_Warden_Exotic']['max_supply'] = 500\n",
    "box_dict['BT0_Armory_Transcendent']['max_supply'] = 450\n",
    "box_dict['BT0_MysteryBox_Exclusive']['max_supply'] = 2000\n",
    "\n",
    "for csv_file in csv_files:\n",
    "    #box_dict[csv_file[:-4]]['inflation'] = box_dict[csv_file[:-4]]['max_supply'] - box_dict[csv_file[:-4]]['supply']\n",
    "    box_dict[csv_file[:-4]]['circ_supply'] = box_dict[csv_file[:-4]]['supply'] - box_dict[csv_file[:-4]]['burn_count']\n",
    "\n",
    "df_stats = pd.DataFrame.from_dict(box_dict, orient='index')\n",
    "df_stats.sort_values(by=['volumne'], inplace=True, ascending=False)\n",
    "print(df_stats)\n"
   ]
  }
 ],
 "metadata": {
  "kernelspec": {
   "display_name": ".venv",
   "language": "python",
   "name": "python3"
  },
  "language_info": {
   "codemirror_mode": {
    "name": "ipython",
    "version": 3
   },
   "file_extension": ".py",
   "mimetype": "text/x-python",
   "name": "python",
   "nbconvert_exporter": "python",
   "pygments_lexer": "ipython3",
   "version": "3.11.4"
  }
 },
 "nbformat": 4,
 "nbformat_minor": 2
}
